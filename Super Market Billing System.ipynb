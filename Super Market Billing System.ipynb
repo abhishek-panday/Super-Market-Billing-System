{
 "cells": [
  {
   "cell_type": "code",
   "execution_count": 3,
   "id": "7056f079-b626-4b77-aeaf-2cde8bce6d62",
   "metadata": {},
   "outputs": [
    {
     "name": "stdout",
     "output_type": "stream",
     "text": [
      "Kindly enter your details for personalized bill\n"
     ]
    },
    {
     "name": "stdin",
     "output_type": "stream",
     "text": [
      "Enter your name here : Abhishek\n"
     ]
    },
    {
     "name": "stdout",
     "output_type": "stream",
     "text": [
      "Abhishek Kindly enter your contact detils\n",
      "\n"
     ]
    },
    {
     "name": "stdin",
     "output_type": "stream",
     "text": [
      "Enter your phone number here :  9876543213\n",
      "Do you want to preview products? yes\n"
     ]
    },
    {
     "name": "stdout",
     "output_type": "stream",
     "text": [
      "PRODUCTS\n",
      "Cheetos        40          \n",
      "Cola           50          \n",
      "Apple          50          \n",
      "Banana         20          \n",
      "Strawberry     30          \n",
      "Oats           100         \n",
      "Peanut butter  350         \n",
      "Cheese         90          \n",
      "Milk           35          \n",
      "Soap           35          \n",
      "Detergent      210         \n",
      "Conditioner    345         \n",
      "\n",
      "Proceed to enter your products you wish to buy\n"
     ]
    },
    {
     "name": "stdin",
     "output_type": "stream",
     "text": [
      "enter the item you wish to buy: Strawberry\n",
      "enter the quantity you wish to buy 11\n",
      "Do you want to add more items?  (Yes / No) yes\n"
     ]
    },
    {
     "name": "stdout",
     "output_type": "stream",
     "text": [
      "330 is your amount till now\n",
      "\n"
     ]
    },
    {
     "name": "stdin",
     "output_type": "stream",
     "text": [
      "enter the item you wish to buy: milk\n",
      "enter the quantity you wish to buy 3\n",
      "Do you want to add more items?  (Yes / No) yes\n"
     ]
    },
    {
     "name": "stdout",
     "output_type": "stream",
     "text": [
      "435 is your amount till now\n",
      "\n"
     ]
    },
    {
     "name": "stdin",
     "output_type": "stream",
     "text": [
      "enter the item you wish to buy: detergent\n",
      "enter the quantity you wish to buy 2\n",
      "Do you want to add more items?  (Yes / No) yes\n"
     ]
    },
    {
     "name": "stdout",
     "output_type": "stream",
     "text": [
      "855 is your amount till now\n",
      "\n"
     ]
    },
    {
     "name": "stdin",
     "output_type": "stream",
     "text": [
      "enter the item you wish to buy: apple\n",
      "enter the quantity you wish to buy 5\n",
      "Do you want to add more items?  (Yes / No) yes\n"
     ]
    },
    {
     "name": "stdout",
     "output_type": "stream",
     "text": [
      "1105 is your amount till now\n",
      "\n"
     ]
    },
    {
     "name": "stdin",
     "output_type": "stream",
     "text": [
      "enter the item you wish to buy: cheetos\n",
      "enter the quantity you wish to buy 5\n",
      "Do you want to add more items?  (Yes / No) no\n"
     ]
    },
    {
     "name": "stdout",
     "output_type": "stream",
     "text": [
      "1305 is your amount till now\n",
      "\n"
     ]
    },
    {
     "name": "stdin",
     "output_type": "stream",
     "text": [
      "Kindly enter the payment method: (Cash / Card) card\n"
     ]
    },
    {
     "name": "stdout",
     "output_type": "stream",
     "text": [
      "Your reciept is being processed\n",
      "\n",
      "\n",
      "\n",
      "\n",
      "****************************************\n",
      "-------- Welcome to Supermarket --------\n",
      "      Abhishek 's Supermarket Reciept\n",
      "========================================\n",
      "Customer name- Abhishek\n",
      "Contact number- 9876543213\n",
      "----------------------------------------\n",
      "Item name      Price      Quantity Total       \n",
      "----------------------------------------\n",
      "Strawberry     30         11       330         \n",
      "Milk           35         3        105         \n",
      "Detergent      210        2        420         \n",
      "Apple          50         5        250         \n",
      "Cheetos        40         5        200         \n",
      "----------------------------------------\n",
      "Total:                            1305\n",
      "Discount(10%):                   130.5\n",
      "Card discount:                    20\n",
      "========================================\n",
      "Payable amount:                   1134.5\n",
      "========================================\n",
      "****************************************\n",
      "\n",
      "\n",
      "\n",
      "\n"
     ]
    },
    {
     "name": "stdin",
     "output_type": "stream",
     "text": [
      "Start entering details for new customer? (Yes / No) no\n"
     ]
    }
   ],
   "source": [
    "#Dictionary of menu items from the Supermarket store\n",
    "SM_products = { \"Cheetos\" : 40 ,\n",
    "                \"Cola\" : 50 ,\n",
    "                \"Apple\" : 50 ,\n",
    "                \"Banana\" : 20 ,\n",
    "                \"Strawberry\" : 30 ,\n",
    "                \"Oats\" : 100 ,\n",
    "                \"Peanut butter\" : 350 ,\n",
    "                \"Cheese\" : 90 ,\n",
    "                \"Milk\" : 35 , \n",
    "                \"Soap\" : 35 ,\n",
    "                \"Detergent\" : 210 ,\n",
    "                \"Conditioner\" : 345 }\n",
    "\n",
    "# Entering customer name for personalized bill and refreshes for every customer\n",
    "while True:\n",
    "    print(\"Kindly enter your details for personalized bill\")\n",
    "    name = input(\"Enter your name here :\")\n",
    "    print(name,\"Kindly enter your contact detils\\n\")\n",
    "    phone = input(\"Enter your phone number here : \")\n",
    "    \n",
    "    # Ensuring phone number to be numeric with proper lenght\n",
    "    while len(phone) != 10 or not phone.isdigit():\n",
    "        print(\"Please enter a valid 10-digit phone number.\")\n",
    "        phone = input(\"Enter your phone number: \")\n",
    "    \n",
    "    # Asking for previewing Product list\n",
    "    preview = input(\"Do you want to preview products?\").capitalize()\n",
    "    if preview == \"Yes\":\n",
    "        print(\"PRODUCTS\")\n",
    "        for i,j in SM_products.items():\n",
    "            print(\"{:<15}{:<12}\".format(i,j))\n",
    "        print(\"\\nProceed to enter your products you wish to buy\")\n",
    "    else:\n",
    "        print(\"\\nProceed to enter your products you wish to buy\")\n",
    "    \n",
    "    \n",
    "    # Initial values of variable\n",
    "    amount = 0\n",
    "    discount = 0\n",
    "    card_discount = 20\n",
    "    cart = {}\n",
    "    \n",
    "    \n",
    "    # Starts taking input from customer for products they wish to buy\n",
    "    while True: # Creates loop\n",
    "        item = input(\"enter the item you wish to buy:\").capitalize()\n",
    "        if item in SM_products:\n",
    "            quantity = int(input(\"enter the quantity you wish to buy\"))\n",
    "            repeat = input(\"Do you want to add more items?  (Yes / No)\").capitalize()\n",
    "        else:\n",
    "            print(\"**Kindly enter a valid item name**\\n\")\n",
    "            item = input(\"enter the valid item name that you wish to buy:\")\n",
    "            if item in SM_products:\n",
    "                quantity = int(input(\"enter the qauntity you wish to buy\"))\n",
    "                repeat = input(\"Do you want to add more items?  (Yes / No)\").capitalize()\n",
    "            continue\n",
    "        val = []\n",
    "        val.append(SM_products[item])\n",
    "        val.append(quantity)\n",
    "        cart[item] = val\n",
    "        amount += SM_products[item] * quantity\n",
    "        print(amount,\"is your amount till now\\n\")\n",
    "        if repeat == \"No\":\n",
    "            break\n",
    "    \n",
    "    # Defining discount distribution\n",
    "    if amount >= 1500:\n",
    "        discount = amount * 0.12\n",
    "        rate = \"Discount(12%):\"\n",
    "    elif amount >= 1000:\n",
    "        discount = amount * 0.10\n",
    "        rate = \"Discount(10%):\"\n",
    "    else:\n",
    "        discount = 0\n",
    "        rate = \"No discount applicable\"\n",
    "    \n",
    "    # Asking for payment method\n",
    "    Payment_method = input(\"Kindly enter the payment method: (Cash / Card)\").capitalize()\n",
    "    if Payment_method == \"Card\":\n",
    "        print(\"Your reciept is being processed\")\n",
    "    \n",
    "    \n",
    "    # Printing Receipt\n",
    "    print(\"\\n\")\n",
    "    print(\"\\n\")\n",
    "    if name is not None:\n",
    "        print(\"*\"*40)\n",
    "        print(\"-\"*8, \"Welcome to Supermarket\",\"-\"*8)\n",
    "        print(\" \"*5, name,\"'s\", \"Supermarket Reciept\")\n",
    "        print(\"=\"*40)\n",
    "    else:\n",
    "        print(\"Kindly enter your name to proceed\")\n",
    "    \n",
    "    print(\"Customer name-\",name)\n",
    "    print(\"Contact number-\",phone)\n",
    "    print(\"-\"*40)\n",
    "    \n",
    "    # Receipt formatting\n",
    "    print(\"{:<15}{:<11}{:<9}{:<12}\".format(\"Item name\",\"Price\",\"Quantity\",\"Total\"))\n",
    "    print(\"-\"*40)\n",
    "    for i,j in cart.items():\n",
    "        print(\"{:<15}{:<11}{:<9}{:<12}\".format(i, j[0], j[1], j[0]*j[1]))\n",
    "        \n",
    "    print(\"-\"*40)\n",
    "    \n",
    "    print(\"Total:\",\" \"*26,amount) \n",
    "    \n",
    "    print(rate,\" \"*17,discount)\n",
    "    if Payment_method == \"Card\":\n",
    "        amount -= card_discount\n",
    "        print(\"Card discount:\",\" \"*18,card_discount)\n",
    "        \n",
    "    print(\"=\"*40)\n",
    "    print(\"Payable amount:\",\" \"*17,amount-discount-card_discount)\n",
    "    print(\"=\"*40)\n",
    "    print(\"*\"*40)\n",
    "    print(\"\\n\")\n",
    "    print(\"\\n\")\n",
    "    Next_customer = input(\"Start entering details for new customer? (Yes / No)\").capitalize()\n",
    "    if Next_customer == \"Yes\":\n",
    "        continue\n",
    "    else:\n",
    "        break"
   ]
  }
 ],
 "metadata": {
  "kernelspec": {
   "display_name": "Python 3 (ipykernel)",
   "language": "python",
   "name": "python3"
  },
  "language_info": {
   "codemirror_mode": {
    "name": "ipython",
    "version": 3
   },
   "file_extension": ".py",
   "mimetype": "text/x-python",
   "name": "python",
   "nbconvert_exporter": "python",
   "pygments_lexer": "ipython3",
   "version": "3.13.1"
  }
 },
 "nbformat": 4,
 "nbformat_minor": 5
}
